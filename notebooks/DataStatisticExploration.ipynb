{
 "cells": [
  {
   "cell_type": "code",
   "execution_count": 2,
   "id": "377d1fc6",
   "metadata": {},
   "outputs": [],
   "source": [
    "import os\n",
    "import torch\n",
    "import numpy as np\n",
    "import pandas as pd\n",
    "\n",
    "from  matplotlib import pyplot as plt\n",
    "\n",
    "import pickle\n",
    "from pathlib import Path"
   ]
  },
  {
   "cell_type": "code",
   "execution_count": 5,
   "id": "b29392a8",
   "metadata": {},
   "outputs": [
    {
     "data": {
      "text/plain": [
       "['Charite_CortBS_Simulations.mat', 'client_.cp', 'simulations_.cp']"
      ]
     },
     "execution_count": 5,
     "metadata": {},
     "output_type": "execute_result"
    }
   ],
   "source": [
    "os.listdir(\"./data/\")"
   ]
  },
  {
   "cell_type": "code",
   "execution_count": 6,
   "id": "b6f06a35",
   "metadata": {},
   "outputs": [],
   "source": [
    "with open(\"./data/simulations_.cp\",\"rb\") as file:\n",
    "    simulations_data = pickle.load(file)\n",
    "    \n",
    "with open(\"./data/client_.cp\",\"rb\") as file:\n",
    "    clients_data = pickle.load(file)"
   ]
  },
  {
   "cell_type": "code",
   "execution_count": 14,
   "id": "bf433334",
   "metadata": {},
   "outputs": [],
   "source": [
    "y_diff_all_ = np.asarray(clients_data[\"y_diff\"])\n",
    "all_nds = np.asarray(simulations_data[\"nds\"])"
   ]
  },
  {
   "cell_type": "code",
   "execution_count": 26,
   "id": "5ae89311",
   "metadata": {},
   "outputs": [],
   "source": [
    "with open(\"./data/simulations_metadata.cp\",\"wb\") as file:\n",
    "    pickle.dump({\"rescaling\":(all_nds.mean(),all_nds.std()),\"shapes\":all_nds.shape},file)\n",
    "    \n",
    "with open(\"./data/client_metadata.cp\",\"wb\") as file:\n",
    "    pickle.dump({\"rescaling\":(y_diff_all_.mean(),y_diff_all_.std()),\"shapes\":y_diff_all_.shape},file)"
   ]
  },
  {
   "cell_type": "code",
   "execution_count": 25,
   "id": "90d9fbf4",
   "metadata": {},
   "outputs": [],
   "source": []
  },
  {
   "cell_type": "code",
   "execution_count": null,
   "id": "5fd19336",
   "metadata": {},
   "outputs": [],
   "source": []
  }
 ],
 "metadata": {
  "kernelspec": {
   "display_name": "Python 3 (ipykernel)",
   "language": "python",
   "name": "python3"
  },
  "language_info": {
   "codemirror_mode": {
    "name": "ipython",
    "version": 3
   },
   "file_extension": ".py",
   "mimetype": "text/x-python",
   "name": "python",
   "nbconvert_exporter": "python",
   "pygments_lexer": "ipython3",
   "version": "3.8.16"
  }
 },
 "nbformat": 4,
 "nbformat_minor": 5
}
