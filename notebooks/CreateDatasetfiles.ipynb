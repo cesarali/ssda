{
 "cells": [
  {
   "cell_type": "code",
   "execution_count": 223,
   "id": "7226c4fa",
   "metadata": {},
   "outputs": [],
   "source": [
    "import os\n",
    "import scipy\n",
    "import pickle\n",
    "import pandas as pd\n",
    "from pathlib import Path\n",
    "from tqdm import tqdm\n",
    "import yaml\n",
    "\n",
    "import pickle\n",
    "\n",
    "from dataclasses import dataclass\n",
    "import numpy as np\n",
    "from matplotlib import pyplot as plt\n",
    "from matplotlib.pyplot import imshow"
   ]
  },
  {
   "cell_type": "code",
   "execution_count": 126,
   "id": "82fc54b8",
   "metadata": {},
   "outputs": [],
   "source": [
    "import scipy.io"
   ]
  },
  {
   "cell_type": "code",
   "execution_count": 35,
   "id": "87f54b7f",
   "metadata": {},
   "outputs": [
    {
     "data": {
      "text/plain": [
       "['$RECYCLE.BIN',\n",
       " 'CCM',\n",
       " 'Charite_analysis_code',\n",
       " 'OneDriveTemp',\n",
       " 'pagefile.sys',\n",
       " 'Programs',\n",
       " 'Projects',\n",
       " 'System Volume Information',\n",
       " 'temp',\n",
       " 'tmp',\n",
       " 'User']"
      ]
     },
     "execution_count": 35,
     "metadata": {},
     "output_type": "execute_result"
    }
   ],
   "source": [
    "os.listdir(\"D:\")"
   ]
  },
  {
   "cell_type": "markdown",
   "id": "6f049ea9",
   "metadata": {},
   "source": [
    "# Patients data"
   ]
  },
  {
   "cell_type": "code",
   "execution_count": 211,
   "id": "775ae0d5",
   "metadata": {},
   "outputs": [],
   "source": [
    "path = Path(\"D:/Projects/Clinical_Studies/CortBS_DEGUM_2022/06_Results/\")\n",
    "results_paths = []\n",
    "for path_ in path.glob(\"*/\"):\n",
    "    results_paths.append(path_)\n",
    "result_path_example = results_paths[0]\n",
    "\n",
    "def inpute_nans(data_):\n",
    "    row_, cols_ = np.where(~indices)\n",
    "    if len(data_.shape) == 2:\n",
    "        j_start,j_end  = min(cols_),max(cols_)\n",
    "        i_start,i_end = min(row_),max(row_)\n",
    "        inpute_data = data_[i_start:i_end,j_start:j_end]\n",
    "        return inpute_data\n",
    "    elif len(data_.shape) == 1:\n",
    "        i_start,i_end = min(row_),max(row_)\n",
    "        inpute_data = data_[i_start:i_end,j_start:j_end]\n",
    "        return inpute_data        \n",
    "\n",
    "def obtain_all_results(result_path_example):\n",
    "    data_dict = {}\n",
    "    data_files = []\n",
    "    for data_file in result_path_example.glob(\"*.mat\"):\n",
    "        data_files.append(data_file)\n",
    "        \n",
    "    for data_file in data_files:\n",
    "        mat = scipy.io.loadmat(data_file,squeeze_me=True, struct_as_record=False)\n",
    "        result = mat[\"result\"]\n",
    "        data_dict[\"{0}_{1}\".format(result_path_example.name,data_file.name)] = result\n",
    "        \n",
    "    return data_dict"
   ]
  },
  {
   "cell_type": "code",
   "execution_count": 138,
   "id": "8398e1f3",
   "metadata": {},
   "outputs": [
    {
     "name": "stderr",
     "output_type": "stream",
     "text": [
      "100%|████████████████████████████████████████████████████████████████████████████████| 127/127 [00:03<00:00, 32.97it/s]\n"
     ]
    }
   ],
   "source": [
    "full_data = {}\n",
    "for result_path_example in tqdm(results_paths):\n",
    "    full_data.update(obtain_all_results(result_path_example))"
   ]
  },
  {
   "cell_type": "code",
   "execution_count": 140,
   "id": "128cfc98",
   "metadata": {},
   "outputs": [],
   "source": [
    "result = full_data['133B_Cortbs_report_no2.mat']"
   ]
  },
  {
   "cell_type": "code",
   "execution_count": 143,
   "id": "a3443c99",
   "metadata": {},
   "outputs": [],
   "source": [
    "#result"
   ]
  },
  {
   "cell_type": "code",
   "execution_count": 130,
   "id": "ef75293a",
   "metadata": {},
   "outputs": [
    {
     "data": {
      "text/plain": [
       "{(88, 24)}"
      ]
     },
     "execution_count": 130,
     "metadata": {},
     "output_type": "execute_result"
    }
   ],
   "source": [
    "shapes_ = []\n",
    "for data_name,y_diff in full_data.items():\n",
    "    shapes_.append((y_diff.shape))\n",
    "set(shapes_)"
   ]
  },
  {
   "cell_type": "code",
   "execution_count": 226,
   "id": "cfc564d1",
   "metadata": {},
   "outputs": [],
   "source": [
    "selected_client_data = {\"names\":[],\n",
    "                        \"y_diff\":[],\n",
    "                        \"PoDm_dist\":[]}\n",
    "\n",
    "for name_, result in full_data.items():\n",
    "    selected_client_data[\"names\"].append(name_)\n",
    "    \n",
    "    data_ = result.Ydiff\n",
    "    inpute_data = inpute_nans(data_)\n",
    "    selected_client_data[\"y_diff\"].append(inpute_data)\n",
    "    \n",
    "    selected_client_data[\"PoDm_dist\"].append(result.PoDm_dist)"
   ]
  },
  {
   "cell_type": "code",
   "execution_count": 228,
   "id": "c93e0b39",
   "metadata": {},
   "outputs": [],
   "source": [
    "with open(Path(\"./data/client_.cp\"),\"wb\") as file:\n",
    "    pickle.dump(selected_client_data,file)"
   ]
  },
  {
   "cell_type": "markdown",
   "id": "a8a71844",
   "metadata": {},
   "source": [
    "# Simulations"
   ]
  },
  {
   "cell_type": "code",
   "execution_count": 149,
   "id": "37a57656",
   "metadata": {},
   "outputs": [],
   "source": [
    "from preprocess_simulation_data import pick_data,inpute_data_cut\n",
    "from pathlib import Path"
   ]
  },
  {
   "cell_type": "code",
   "execution_count": 159,
   "id": "886aea81",
   "metadata": {},
   "outputs": [],
   "source": [
    "data_path = Path(\"./data/\")\n",
    "mat_path = list(data_path.glob(\"*.mat\"))[0]\n",
    "mat = scipy.io.loadmat(mat_path,squeeze_me=True, struct_as_record=False)"
   ]
  },
  {
   "cell_type": "code",
   "execution_count": 231,
   "id": "4a2c756c",
   "metadata": {},
   "outputs": [],
   "source": [
    "all_nds = mat[\"NDS\"].transpose(2,0,1)\n",
    "number_of_examples = all_nds.shape[0]\n",
    "\n",
    "\n",
    "selected_simulations_data = {\"nds\":[],\n",
    "                             \"PoDmD\":[],\n",
    "                             \"name\":[]}\n",
    "\n",
    "for example_index in range(number_of_examples):\n",
    "    nds_example = all_nds[example_index]\n",
    "    selected_simulations_data[\"nds\"].append(inpute_nans(nds_example))\n",
    "    \n",
    "    selected_simulations_data[\"PoDmD\"].append(mat[\"PoDmD\"][example_index])\n",
    "    \n",
    "    selected_simulations_data[\"name\"].append(example_index)"
   ]
  },
  {
   "cell_type": "code",
   "execution_count": 234,
   "id": "d0270131",
   "metadata": {},
   "outputs": [
    {
     "data": {
      "text/plain": [
       "(11, 24)"
      ]
     },
     "execution_count": 234,
     "metadata": {},
     "output_type": "execute_result"
    }
   ],
   "source": [
    "selected_simulations_data[\"nds\"][0].shape"
   ]
  },
  {
   "cell_type": "code",
   "execution_count": 235,
   "id": "91c55980",
   "metadata": {},
   "outputs": [],
   "source": [
    "with open(Path(\"./data/simulations_.cp\"),\"wb\") as file:\n",
    "    pickle.dump(selected_simulations_data,file)"
   ]
  },
  {
   "cell_type": "code",
   "execution_count": 215,
   "id": "cb1c483e",
   "metadata": {},
   "outputs": [
    {
     "data": {
      "text/plain": [
       "[<matplotlib.lines.Line2D at 0x24c8d61e3d0>]"
      ]
     },
     "execution_count": 215,
     "metadata": {},
     "output_type": "execute_result"
    },
    {
     "data": {
      "image/png": "[encoded data removed]",
      "text/plain": [
       "<Figure size 1000x200 with 2 Axes>"
      ]
     },
     "metadata": {},
     "output_type": "display_data"
    }
   ],
   "source": [
    "fig, axs = plt.subplots(ncols=2,nrows=1,figsize=(10,2))\n",
    "axs[0].plot(mat[\"PoDmD\"][100])\n",
    "axs[1].plot(result.PoDm_dist)"
   ]
  },
  {
   "cell_type": "code",
   "execution_count": 206,
   "id": "5436c6e1",
   "metadata": {},
   "outputs": [],
   "source": [
    "all_nds = mat[\"NDS\"].transpose(2,0,1)\n",
    "nds_example = all_nds[19,:,:]\n",
    "ydiff_example = result.Ydiff"
   ]
  },
  {
   "cell_type": "code",
   "execution_count": 205,
   "id": "17622686",
   "metadata": {},
   "outputs": [
    {
     "data": {
      "text/plain": [
       "<matplotlib.image.AxesImage at 0x24c8cbd1a60>"
      ]
     },
     "execution_count": 205,
     "metadata": {},
     "output_type": "execute_result"
    },
    {
     "data": {
      "image/png": "[encoded data removed]",
      "text/plain": [
       "<Figure size 1000x200 with 2 Axes>"
      ]
     },
     "metadata": {},
     "output_type": "display_data"
    }
   ],
   "source": [
    "fig, axs = plt.subplots(ncols=2,nrows=1,figsize=(10,2))\n",
    "axs[0].imshow(inpute_nans(nds_example))\n",
    "axs[1].imshow(inpute_nans(ydiff_example))"
   ]
  },
  {
   "cell_type": "code",
   "execution_count": 207,
   "id": "68125e25",
   "metadata": {},
   "outputs": [
    {
     "data": {
      "text/plain": [
       "(88, 24)"
      ]
     },
     "execution_count": 207,
     "metadata": {},
     "output_type": "execute_result"
    }
   ],
   "source": [
    "inpute_nans(ydiff_example).shape"
   ]
  },
  {
   "cell_type": "code",
   "execution_count": 209,
   "id": "c8d4340b",
   "metadata": {},
   "outputs": [],
   "source": [
    "shapes_ = []\n",
    "number_of_examples = all_nds.shape[0]\n",
    "for example_index in range(number_of_examples):\n",
    "    nds_example = all_nds[example_index]\n",
    "    shapes_.append(inpute_nans(nds_example).shape)"
   ]
  }
 ],
 "metadata": {
  "kernelspec": {
   "display_name": "Python 3 (ipykernel)",
   "language": "python",
   "name": "python3"
  },
  "language_info": {
   "codemirror_mode": {
    "name": "ipython",
    "version": 3
   },
   "file_extension": ".py",
   "mimetype": "text/x-python",
   "name": "python",
   "nbconvert_exporter": "python",
   "pygments_lexer": "ipython3",
   "version": "3.10.9"
  }
 },
 "nbformat": 4,
 "nbformat_minor": 5
}
