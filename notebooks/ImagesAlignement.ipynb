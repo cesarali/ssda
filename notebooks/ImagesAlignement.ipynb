{
 "cells": [
  {
   "cell_type": "code",
   "execution_count": 1,
   "id": "03944670-8384-438c-912e-d429fbb73035",
   "metadata": {},
   "outputs": [],
   "source": [
    "import os\n",
    "import ssda\n",
    "import torch\n",
    "import scipy\n",
    "import numpy as np\n",
    "\n",
    "from typing import List\n",
    "\n",
    "from pathlib import Path\n",
    "from dataclasses import dataclass\n",
    "from matplotlib import pyplot as plt\n",
    "\n",
    "import numpy as np\n",
    "from scipy.interpolate import interp1d"
   ]
  },
  {
   "cell_type": "code",
   "execution_count": 2,
   "id": "607901a2-de52-46cb-8e35-24a46e4c9a03",
   "metadata": {},
   "outputs": [],
   "source": [
    "from ssda import data_path\n",
    "raw_path = os.path.join(data_path,\"raw\")"
   ]
  },
  {
   "cell_type": "markdown",
   "id": "41d23dee-580e-4fe3-9001-a35dfcbe1964",
   "metadata": {},
   "source": [
    "# Raw Simulation"
   ]
  },
  {
   "cell_type": "code",
   "execution_count": 3,
   "id": "bcf38e3a-f7b3-49ac-87ef-131a8d5889d2",
   "metadata": {},
   "outputs": [
    {
     "data": {
      "text/plain": [
       "WindowsPath('D:/User/ceoj10/Codes/ssda/data/raw/Charite_CortBS_Simulations.mat')"
      ]
     },
     "execution_count": 3,
     "metadata": {},
     "output_type": "execute_result"
    }
   ],
   "source": [
    "data_path = Path(raw_path)\n",
    "mat_path = list(data_path.glob(\"*.mat\"))[0]\n",
    "mat_path"
   ]
  },
  {
   "cell_type": "code",
   "execution_count": 4,
   "id": "83582e02-06b0-4530-91d5-314d8a4b2c5c",
   "metadata": {},
   "outputs": [],
   "source": [
    "mat = scipy.io.loadmat(mat_path,squeeze_me=True, struct_as_record=False)"
   ]
  },
  {
   "cell_type": "code",
   "execution_count": 5,
   "id": "288ec072-a748-4167-9a02-1e2134941286",
   "metadata": {},
   "outputs": [
    {
     "data": {
      "text/plain": [
       "dict_keys(['__header__', '__version__', '__globals__', 'BSC_5', 'BSC_6', 'BSC_7', 'BSC_8', 'NDS', 'PoDmD', 'PoDmD_ks', 'PoDm_mean', 'PoDm_median', 'PoDm_peak', 'PoDm_q10', 'PoDm_q90', 'PoDm_std', 'PoDm_vec', 'PodDm_gamma_a', 'PodDm_gamma_b', 'absorption', 'att_0', 'att_5', 'att_6', 'att_7', 'att_8', 'att_f', 'f', 'po_dm_base', 'po_dm_gradient', 'pores_size', 'porosity_base', 'z'])"
      ]
     },
     "execution_count": 5,
     "metadata": {},
     "output_type": "execute_result"
    }
   ],
   "source": [
    "mat.keys()"
   ]
  },
  {
   "cell_type": "code",
   "execution_count": 6,
   "id": "87d91295-e0b9-4b94-9365-243d1c36846e",
   "metadata": {},
   "outputs": [],
   "source": [
    "simulations_z = mat[\"z\"]\n",
    "simulations_frequencies = mat[\"f\"]\n",
    "all_images = mat[\"NDS\"].transpose(2,0,1)\n",
    "simulation_image = all_images[0]"
   ]
  },
  {
   "cell_type": "markdown",
   "id": "e7ed85b2-7491-45c2-899e-1cdd7eb0342c",
   "metadata": {},
   "source": [
    "# Raw Real"
   ]
  },
  {
   "cell_type": "code",
   "execution_count": 7,
   "id": "3878e294-a462-4462-8d94-a6898777852a",
   "metadata": {},
   "outputs": [],
   "source": [
    "from ssda.data.preprocess.real import obtain_all_results\n",
    "from ssda.data.preprocess.filter_images import NDS, reduce_image_frequency"
   ]
  },
  {
   "cell_type": "code",
   "execution_count": 8,
   "id": "f5c98767-530f-4bd8-bc33-94a55a041405",
   "metadata": {},
   "outputs": [
    {
     "name": "stderr",
     "output_type": "stream",
     "text": [
      "100%|████████████████████████████████████████████████████████████████████████████████| 132/132 [00:04<00:00, 30.81it/s]\n"
     ]
    }
   ],
   "source": [
    "all_result_parent_folder = \"D:/Projects/Clinical_Studies/CortBS_DEGUM_2022/06_Results/\"\n",
    "full_data = obtain_all_results(all_result_parent_folder)"
   ]
  },
  {
   "cell_type": "code",
   "execution_count": 9,
   "id": "b57577ea-5bd8-491d-b09c-e5305a92214f",
   "metadata": {},
   "outputs": [],
   "source": [
    "mat_result = full_data[\"101B_Cortbs_report_no1.mat\"]\n",
    "real_dz = mat_result.dz\n",
    "real_frequencies = mat_result.f_sampling\n",
    "real_image = mat_result.Ydiff"
   ]
  },
  {
   "cell_type": "code",
   "execution_count": 10,
   "id": "27c696b5-915e-4e66-8314-c2c28eadd3c3",
   "metadata": {},
   "outputs": [],
   "source": [
    "dfrequencies_simulations = (simulations_frequencies[1:] - simulations_frequencies[:-1])[0]\n",
    "deltaz_simulations =  (simulations_z[1:] - simulations_z[:-1])[0]\n",
    "\n",
    "dfrequencies_real = (real_frequencies[1:] - real_frequencies[:-1])[0]\n",
    "deltaz_real = (real_dz[1:] - real_dz[:-1])[0]\n",
    "\n",
    "real_nds = NDS(max_frequency=max(real_frequencies),\n",
    "               name=\"real\",\n",
    "               min_frequency=min(real_frequencies),\n",
    "               number_of_frequencies=len(real_frequencies),\n",
    "               delta_frequency=dfrequencies_real,\n",
    "               frequencies=real_frequencies,\n",
    "               z=real_dz,\n",
    "               max_z=max(real_dz),\n",
    "               min_z=min(real_dz),\n",
    "               number_of_z=len(real_dz),\n",
    "               delta_z=deltaz_real)\n",
    "\n",
    "simulations_nds = NDS(max_frequency=max(simulations_frequencies),\n",
    "                      name=\"simulation\",\n",
    "                      min_frequency=min(simulations_frequencies),\n",
    "                      number_of_frequencies=len(simulations_frequencies),\n",
    "                      delta_frequency=dfrequencies_simulations,\n",
    "                      frequencies=simulations_frequencies,\n",
    "                      z=simulations_z,\n",
    "                      max_z=max(simulations_z),\n",
    "                      min_z=min(simulations_z),\n",
    "                      number_of_z = len(simulations_z),\n",
    "                      delta_z=deltaz_simulations)"
   ]
  },
  {
   "cell_type": "code",
   "execution_count": 11,
   "id": "9197ec04-1f3b-4524-9da3-d6ba5da80a97",
   "metadata": {},
   "outputs": [
    {
     "data": {
      "text/plain": [
       "((513, 25), 513, 25)"
      ]
     },
     "execution_count": 11,
     "metadata": {},
     "output_type": "execute_result"
    }
   ],
   "source": [
    "real_image.shape,real_nds.number_of_frequencies,real_nds.number_of_z"
   ]
  },
  {
   "cell_type": "code",
   "execution_count": 12,
   "id": "f1421432-3354-4a01-a631-8661c2b9ec64",
   "metadata": {},
   "outputs": [
    {
     "data": {
      "text/plain": [
       "((114, 35), 114, 35)"
      ]
     },
     "execution_count": 12,
     "metadata": {},
     "output_type": "execute_result"
    }
   ],
   "source": [
    "simulation_image.shape, simulations_nds.number_of_frequencies, simulations_nds.number_of_z"
   ]
  },
  {
   "cell_type": "code",
   "execution_count": 13,
   "id": "c9dd736a-3a2f-45e1-b9b3-0143af1ca6da",
   "metadata": {},
   "outputs": [],
   "source": [
    "reduced_real_image, selected_frequencies = reduce_image_frequency(real_image,real_nds,simulations_nds.frequencies)\n",
    "mat_result = full_data[\"101B_Cortbs_report_no1.mat\"]\n",
    "real_image = mat_result.Ydiff\n",
    "reduced_real_images_by_frequency = {}\n",
    "for name_,mat_result in full_data.items():\n",
    "    reduced_real_image, _ = reduce_image_frequency(real_image,real_nds,selected_frequencies)\n",
    "    reduced_real_images_by_frequency[name_] = reduced_real_image\n",
    "\n",
    "reduced_simulations_images_by_frequency = {}\n",
    "simulation_image = all_images[0]\n",
    "for image_id,simulation_image in enumerate(all_images):\n",
    "    reduced_simulation_image, selected_frequencies_s = reduce_image_frequency(simulation_image,simulations_nds,selected_frequencies,False)\n",
    "    reduced_simulations_images_by_frequency[image_id] = reduced_simulation_image"
   ]
  },
  {
   "cell_type": "code",
   "execution_count": 14,
   "id": "effb8e25-59c1-43b2-b03e-bd6d18934f1c",
   "metadata": {},
   "outputs": [
    {
     "data": {
      "text/plain": [
       "<matplotlib.image.AxesImage at 0x23066116cb0>"
      ]
     },
     "execution_count": 14,
     "metadata": {},
     "output_type": "execute_result"
    },
    {
     "data": {
      "image/png": "[encoded data removed]",
      "text/plain": [
       "<Figure size 1000x200 with 2 Axes>"
      ]
     },
     "metadata": {},
     "output_type": "display_data"
    }
   ],
   "source": [
    "fig, axs = plt.subplots(ncols=2,nrows=1,figsize=(10,2))\n",
    "axs[0].imshow(reduced_real_image)\n",
    "axs[1].imshow(reduced_simulations_images_by_frequency[0])"
   ]
  },
  {
   "cell_type": "code",
   "execution_count": 15,
   "id": "c9c2e532-e582-46ed-92ea-a9748fb025ad",
   "metadata": {},
   "outputs": [],
   "source": [
    "# the selected z is in the real domain\n",
    "selected_z = real_nds.z[4:]\n",
    "selected_min_z = min(selected_z)\n",
    "selected_max_z = max(selected_z)"
   ]
  },
  {
   "cell_type": "code",
   "execution_count": 16,
   "id": "7d6e1dde-156d-42b7-82fb-d0a4fa80d192",
   "metadata": {},
   "outputs": [],
   "source": [
    "final_reduced_real_image = {}\n",
    "for name_,reduced_real_by_frequency in reduced_real_images_by_frequency.items():\n",
    "    final_reduced_real_image[name_] = reduced_real_by_frequency[:,4:]"
   ]
  },
  {
   "cell_type": "code",
   "execution_count": 17,
   "id": "ac475a7f-b216-43bd-b771-47ff0215362c",
   "metadata": {},
   "outputs": [],
   "source": [
    "#final_reduced_real_image['101B_Cortbs_report_no1.mat']"
   ]
  },
  {
   "cell_type": "code",
   "execution_count": 18,
   "id": "f94a0df4-1c29-423d-8708-d05b640cfe26",
   "metadata": {},
   "outputs": [
    {
     "data": {
      "text/plain": [
       "((-0.00112, 0.005599999999999999, 0.00028), 25)"
      ]
     },
     "execution_count": 18,
     "metadata": {},
     "output_type": "execute_result"
    }
   ],
   "source": [
    "real_nds.z_domain,real_nds.number_of_z"
   ]
  },
  {
   "cell_type": "code",
   "execution_count": 19,
   "id": "1b321561-5500-4e8a-a2e3-cdc9e47ec190",
   "metadata": {},
   "outputs": [
    {
     "data": {
      "text/plain": [
       "((-0.0009599999999999999, 0.007199999999999999, 0.00023999999999999998), 35)"
      ]
     },
     "execution_count": 19,
     "metadata": {},
     "output_type": "execute_result"
    }
   ],
   "source": [
    "simulations_nds.z_domain,simulations_nds.number_of_z"
   ]
  },
  {
   "cell_type": "code",
   "execution_count": 20,
   "id": "737ef4d8-9ba9-4c6e-b298-d68fb80d99f0",
   "metadata": {},
   "outputs": [],
   "source": []
  },
  {
   "cell_type": "code",
   "execution_count": 21,
   "id": "48523670-d0cd-42e7-9276-ecd4c4fa41d3",
   "metadata": {},
   "outputs": [],
   "source": [
    "#simulations_image"
   ]
  },
  {
   "cell_type": "code",
   "execution_count": 24,
   "id": "546690b7-8333-49f3-90ac-6e5cba78ac67",
   "metadata": {},
   "outputs": [],
   "source": [
    "is_bigger  = simulations_nds.z >= selected_min_z\n",
    "is_smaller = simulations_nds.z <= selected_max_z\n",
    "\n",
    "min_z_id_simulations = min(np.where(is_bigger)[0])\n",
    "max_z_id_simulations = max(np.where(is_smaller)[0])+2\n",
    "\n",
    "filter_z_in_simulation = simulations_nds.z[min_z_id_simulations:max_z_id_simulations]"
   ]
  },
  {
   "cell_type": "code",
   "execution_count": 25,
   "id": "2e18e7ff-8aa1-400e-b8f7-a009b391e5da",
   "metadata": {},
   "outputs": [],
   "source": [
    "simulations_image = reduced_simulations_images_by_frequency[0]\n",
    "filter_by_z_simulation_image = simulations_image[:,min_z_id_simulations:max_z_id_simulations]"
   ]
  },
  {
   "cell_type": "code",
   "execution_count": 28,
   "id": "fad19d85-806e-437d-83e9-d41212f4e742",
   "metadata": {},
   "outputs": [],
   "source": [
    "interpolated_image = []\n",
    "number_of_image_frequencies = filter_by_z_simulation_image.shape[0]\n",
    "\n",
    "for frequency_id in range(number_of_image_frequencies):\n",
    "    \n",
    "    #frequency\n",
    "    frequency_values = filter_by_z_simulation_image[frequency_id]\n",
    "    interp_function = interp1d(filter_z_in_simulation, frequency_values, kind='linear', fill_value=\"extrapolate\")\n",
    "\n",
    "    # Use the interpolation function to find corresponding y values\n",
    "    frequency_interpolated = interp_function(selected_z)\n",
    "    interpolated_image.append(frequency_interpolated)\n",
    "    \n",
    "interpolated_image = np.vstack(interpolated_image)"
   ]
  },
  {
   "cell_type": "code",
   "execution_count": 33,
   "id": "0b191d71-78c4-41bd-b36b-9a5d9f3afb0e",
   "metadata": {},
   "outputs": [],
   "source": [
    "name_,reduced_real_image = next(final_reduced_real_image.items().__iter__())"
   ]
  },
  {
   "cell_type": "code",
   "execution_count": 34,
   "id": "68e38b95-b751-4126-b0c6-ab30bde8fc3d",
   "metadata": {},
   "outputs": [
    {
     "data": {
      "text/plain": [
       "<matplotlib.image.AxesImage at 0x230763ef550>"
      ]
     },
     "execution_count": 34,
     "metadata": {},
     "output_type": "execute_result"
    },
    {
     "data": {
      "image/png": "[encoded data removed]",
      "text/plain": [
       "<Figure size 1000x200 with 2 Axes>"
      ]
     },
     "metadata": {},
     "output_type": "display_data"
    }
   ],
   "source": [
    "fig, axs = plt.subplots(ncols=2,nrows=1,figsize=(10,2))\n",
    "axs[0].imshow(reduced_real_image)\n",
    "axs[1].imshow(interpolated_image)"
   ]
  },
  {
   "cell_type": "code",
   "execution_count": 36,
   "id": "ea2cf086-cc3c-48b1-a81e-2daa1cf2dc25",
   "metadata": {},
   "outputs": [
    {
     "data": {
      "text/plain": [
       "((76, 21), (76, 21))"
      ]
     },
     "execution_count": 36,
     "metadata": {},
     "output_type": "execute_result"
    }
   ],
   "source": [
    "reduced_real_image.shape,interpolated_image.shape"
   ]
  }
 ],
 "metadata": {
  "kernelspec": {
   "display_name": "Python 3 (ipykernel)",
   "language": "python",
   "name": "python3"
  },
  "language_info": {
   "codemirror_mode": {
    "name": "ipython",
    "version": 3
   },
   "file_extension": ".py",
   "mimetype": "text/x-python",
   "name": "python",
   "nbconvert_exporter": "python",
   "pygments_lexer": "ipython3",
   "version": "3.10.9"
  }
 },
 "nbformat": 4,
 "nbformat_minor": 5
}
