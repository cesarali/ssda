{
 "cells": [
  {
   "cell_type": "code",
   "execution_count": 3,
   "id": "983cb91b",
   "metadata": {},
   "outputs": [],
   "source": [
    "import os\n",
    "import torch\n",
    "from sklearn.gaussian_process import GaussianProcessRegressor\n",
    "\n",
    "from sklearn.model_selection import KFold\n",
    "from sklearn.metrics import r2_score\n",
    "import numpy as np\n",
    "import os\n",
    "\n",
    "import scipy\n",
    "from matplotlib import pyplot as plt\n",
    "from sklearn.decomposition import PCA\n",
    "from sklearn.decomposition import KernelPCA\n",
    "from sklearn.metrics import f1_score\n",
    "\n",
    "import torch.nn.utils as torch_utils\n",
    "from sklearn.decomposition import PCA\n",
    "from sklearn.model_selection import train_test_split\n",
    "from sklearn.gaussian_process.kernels import RBF, RationalQuadratic,ConstantKernel, Matern\n",
    "\n",
    "from sklearn.datasets import load_iris\n",
    "from sklearn.gaussian_process import GaussianProcessClassifier\n",
    "from sklearn.gaussian_process.kernels import RBF"
   ]
  },
  {
   "cell_type": "code",
   "execution_count": 8,
   "id": "a9c19238-97c0-4e2e-99f2-cf4938c7350c",
   "metadata": {},
   "outputs": [],
   "source": [
    "from ssda import data_path as data_dir\n",
    "data_dir = os.path.join(data_dir,\"raw\",\"porous\")\n",
    "data_path = os.path.join(data_dir,\"Charite_CortBS_Simulations.mat\")"
   ]
  },
  {
   "cell_type": "code",
   "execution_count": 5,
   "id": "c34e6cd7",
   "metadata": {},
   "outputs": [],
   "source": [
    "#data_dir = \"./drive/MyDrive/Work/Potsdam/Charite/\"\n",
    "#data_path = os.path.join(data_dir,\"./Charite_CortBS_Simulations.mat\")"
   ]
  },
  {
   "cell_type": "code",
   "execution_count": 9,
   "id": "1e4f57e0",
   "metadata": {},
   "outputs": [],
   "source": [
    "mat = scipy.io.loadmat(data_path)"
   ]
  },
  {
   "cell_type": "code",
   "execution_count": 12,
   "id": "89a5210a",
   "metadata": {},
   "outputs": [
    {
     "data": {
      "text/plain": [
       "dict_keys(['__header__', '__version__', '__globals__', 'BSC_5', 'BSC_6', 'BSC_7', 'BSC_8', 'NDS', 'PoDmD', 'PoDmD_ks', 'PoDm_mean', 'PoDm_median', 'PoDm_peak', 'PoDm_q10', 'PoDm_q90', 'PoDm_std', 'PoDm_vec', 'PodDm_gamma_a', 'PodDm_gamma_b', 'absorption', 'att_0', 'att_5', 'att_6', 'att_7', 'att_8', 'att_f', 'f', 'po_dm_base', 'po_dm_gradient', 'pores_size', 'porosity_base', 'z'])"
      ]
     },
     "execution_count": 12,
     "metadata": {},
     "output_type": "execute_result"
    }
   ],
   "source": [
    "mat.keys()"
   ]
  },
  {
   "cell_type": "code",
   "execution_count": 13,
   "id": "fcdf2615",
   "metadata": {},
   "outputs": [],
   "source": [
    "def pick_data(mat,target_name=\"PoDm_mean\"):\n",
    "    X_ = mat['NDS']\n",
    "    Y = mat[target_name].T\n",
    "    return  X_,Y\n",
    "\n",
    "def inpute_data_cut(X_,cut_size_x = 5,cut_size_y = 5):\n",
    "    # Calculate the mean of each column\n",
    "    X_reduced = X_[:,cut_size_x:-cut_size_x,cut_size_y:-cut_size_y]\n",
    "    assert not np.isnan(X_reduced).any()       \n",
    "    return X_reduced\n",
    "\n",
    "def inpute_data_mean(X_):\n",
    "    # Calculate the mean of each column\n",
    "    col_mean = np.nanmean(X_, axis=0)\n",
    "    row_mean = np.nanmean(X_, axis=1)\n",
    "    # Replace NaN values with the mean of the column\n",
    "    X_[np.isnan(X_)] = np.take(col_mean, np.isnan(X_).nonzero()[1])\n",
    "    X_[np.isnan(X_)] = np.take(row_mean, np.isnan(X_).nonzero()[1])\n",
    "    return X_\n",
    "\n",
    "def dimensionality_reduction(X_,none=False):\n",
    "    datasize = X_.shape[0]\n",
    "    if none:\n",
    "        X_reduced = X_.reshape(datasize,-1)\n",
    "    else:\n",
    "        # Perform dimensionality reduction using PCA\n",
    "        pca = PCA(n_components=100)\n",
    "        X_reduced = pca.fit_transform(X_.reshape(datasize,-1))\n",
    "    return X_reduced\n",
    "\n",
    "def normalize(X_reduced,YF):\n",
    "    # Calculate mean and standard deviation of the input X\n",
    "    X_mean = np.mean(X_reduced, axis=0)\n",
    "    X_std = np.std(X_reduced, axis=0)\n",
    "    # Normalize the input X\n",
    "    X_normalized = (X_reduced - X_mean) / X_std\n",
    "    # Calculate mean and standard deviation of the output Y\n",
    "    Y_mean = np.mean(YF, axis=0)\n",
    "    Y_std = np.std(YF, axis=0)\n",
    "    # Normalize the output Y\n",
    "    Y_normalized = (YF - Y_mean) / Y_std\n",
    "    return X_normalized, Y_normalized\n",
    "\n",
    "def permute_data(X,Y):\n",
    "    permutation = torch.randperm(torch.Tensor(X).size()[0])\n",
    "    X = torch.Tensor(X)[permutation].numpy()\n",
    "    Y = torch.Tensor(Y)[permutation].numpy()\n",
    "    return X,Y\n",
    "\n",
    "def one_experiment(X_reduced,Y,kernel,target_name=\"PoDm_mean\",svm=False):\n",
    "    X_reduced, Y = permute_data(X_reduced,Y)\n",
    "    X_train, X_test, Y_train, Y_test = train_test_split(X_reduced, Y, test_size=0.25)\n",
    "    if target_name == \"absortion\":\n",
    "        if svm:\n",
    "            gpr = svm.SVC()\n",
    "        else:\n",
    "            gpr = GaussianProcessClassifier(kernel=kernel)\n",
    "    else:\n",
    "        gpr = GaussianProcessRegressor(kernel=kernel)\n",
    "        \n",
    "    gpr.fit(X_train, Y_train)\n",
    "    Y_pred = gpr.predict(X_test)\n",
    "    if target_name == \"absortion\":\n",
    "        r2 = f1_score(Y_test, Y_pred,average='weighted')\n",
    "    else:\n",
    "        r2 = r2_score(Y_test, Y_pred)\n",
    "    return r2"
   ]
  },
  {
   "cell_type": "code",
   "execution_count": 91,
   "id": "9d6df041",
   "metadata": {},
   "outputs": [
    {
     "name": "stdout",
     "output_type": "stream",
     "text": [
      "Data PoDm_mean Kernel rq\n",
      "(780, 100)\n",
      "Experiment 0\n",
      "Experiment 10\n",
      "{'kernel': RationalQuadratic(alpha=1.5, length_scale=1), 'svm': False, 'r2 mean': 0.8179355138771598, 'r2 std': 0.01640117262321306, 'target_name': 'PoDm_mean'}\n",
      "Data PoDm_mean Kernel m\n",
      "(780, 100)\n",
      "Experiment 0\n"
     ]
    },
    {
     "name": "stderr",
     "output_type": "stream",
     "text": [
      "C:\\Users\\cesar\\anaconda3\\envs\\discrete-diffusion\\lib\\site-packages\\sklearn\\gaussian_process\\_gpr.py:629: ConvergenceWarning: lbfgs failed to converge (status=2):\n",
      "ABNORMAL_TERMINATION_IN_LNSRCH.\n",
      "\n",
      "Increase the number of iterations (max_iter) or scale the data as shown in:\n",
      "    https://scikit-learn.org/stable/modules/preprocessing.html\n",
      "  _check_optimize_result(\"lbfgs\", opt_res)\n",
      "C:\\Users\\cesar\\anaconda3\\envs\\discrete-diffusion\\lib\\site-packages\\sklearn\\gaussian_process\\_gpr.py:629: ConvergenceWarning: lbfgs failed to converge (status=2):\n",
      "ABNORMAL_TERMINATION_IN_LNSRCH.\n",
      "\n",
      "Increase the number of iterations (max_iter) or scale the data as shown in:\n",
      "    https://scikit-learn.org/stable/modules/preprocessing.html\n",
      "  _check_optimize_result(\"lbfgs\", opt_res)\n",
      "C:\\Users\\cesar\\anaconda3\\envs\\discrete-diffusion\\lib\\site-packages\\sklearn\\gaussian_process\\_gpr.py:629: ConvergenceWarning: lbfgs failed to converge (status=2):\n",
      "ABNORMAL_TERMINATION_IN_LNSRCH.\n",
      "\n",
      "Increase the number of iterations (max_iter) or scale the data as shown in:\n",
      "    https://scikit-learn.org/stable/modules/preprocessing.html\n",
      "  _check_optimize_result(\"lbfgs\", opt_res)\n",
      "C:\\Users\\cesar\\anaconda3\\envs\\discrete-diffusion\\lib\\site-packages\\sklearn\\gaussian_process\\_gpr.py:629: ConvergenceWarning: lbfgs failed to converge (status=2):\n",
      "ABNORMAL_TERMINATION_IN_LNSRCH.\n",
      "\n",
      "Increase the number of iterations (max_iter) or scale the data as shown in:\n",
      "    https://scikit-learn.org/stable/modules/preprocessing.html\n",
      "  _check_optimize_result(\"lbfgs\", opt_res)\n"
     ]
    },
    {
     "name": "stdout",
     "output_type": "stream",
     "text": [
      "Experiment 10\n"
     ]
    },
    {
     "name": "stderr",
     "output_type": "stream",
     "text": [
      "C:\\Users\\cesar\\anaconda3\\envs\\discrete-diffusion\\lib\\site-packages\\sklearn\\gaussian_process\\_gpr.py:629: ConvergenceWarning: lbfgs failed to converge (status=2):\n",
      "ABNORMAL_TERMINATION_IN_LNSRCH.\n",
      "\n",
      "Increase the number of iterations (max_iter) or scale the data as shown in:\n",
      "    https://scikit-learn.org/stable/modules/preprocessing.html\n",
      "  _check_optimize_result(\"lbfgs\", opt_res)\n",
      "C:\\Users\\cesar\\anaconda3\\envs\\discrete-diffusion\\lib\\site-packages\\sklearn\\gaussian_process\\_gpr.py:629: ConvergenceWarning: lbfgs failed to converge (status=2):\n",
      "ABNORMAL_TERMINATION_IN_LNSRCH.\n",
      "\n",
      "Increase the number of iterations (max_iter) or scale the data as shown in:\n",
      "    https://scikit-learn.org/stable/modules/preprocessing.html\n",
      "  _check_optimize_result(\"lbfgs\", opt_res)\n"
     ]
    },
    {
     "name": "stdout",
     "output_type": "stream",
     "text": [
      "{'kernel': Matern(length_scale=1, nu=1.5), 'svm': False, 'r2 mean': 0.8207114299498327, 'r2 std': 0.020318888269418613, 'target_name': 'PoDm_mean'}\n",
      "Data PoDm_std Kernel rq\n",
      "(780, 100)\n",
      "Experiment 0\n",
      "Experiment 10\n",
      "{'kernel': RationalQuadratic(alpha=1.5, length_scale=1), 'svm': False, 'r2 mean': 0.8076966497652676, 'r2 std': 0.01733804646687628, 'target_name': 'PoDm_std'}\n",
      "Data PoDm_std Kernel m\n",
      "(780, 100)\n",
      "Experiment 0\n"
     ]
    },
    {
     "name": "stderr",
     "output_type": "stream",
     "text": [
      "C:\\Users\\cesar\\anaconda3\\envs\\discrete-diffusion\\lib\\site-packages\\sklearn\\gaussian_process\\_gpr.py:629: ConvergenceWarning: lbfgs failed to converge (status=2):\n",
      "ABNORMAL_TERMINATION_IN_LNSRCH.\n",
      "\n",
      "Increase the number of iterations (max_iter) or scale the data as shown in:\n",
      "    https://scikit-learn.org/stable/modules/preprocessing.html\n",
      "  _check_optimize_result(\"lbfgs\", opt_res)\n",
      "C:\\Users\\cesar\\anaconda3\\envs\\discrete-diffusion\\lib\\site-packages\\sklearn\\gaussian_process\\_gpr.py:629: ConvergenceWarning: lbfgs failed to converge (status=2):\n",
      "ABNORMAL_TERMINATION_IN_LNSRCH.\n",
      "\n",
      "Increase the number of iterations (max_iter) or scale the data as shown in:\n",
      "    https://scikit-learn.org/stable/modules/preprocessing.html\n",
      "  _check_optimize_result(\"lbfgs\", opt_res)\n"
     ]
    },
    {
     "name": "stdout",
     "output_type": "stream",
     "text": [
      "Experiment 10\n"
     ]
    },
    {
     "name": "stderr",
     "output_type": "stream",
     "text": [
      "C:\\Users\\cesar\\anaconda3\\envs\\discrete-diffusion\\lib\\site-packages\\sklearn\\gaussian_process\\_gpr.py:629: ConvergenceWarning: lbfgs failed to converge (status=2):\n",
      "ABNORMAL_TERMINATION_IN_LNSRCH.\n",
      "\n",
      "Increase the number of iterations (max_iter) or scale the data as shown in:\n",
      "    https://scikit-learn.org/stable/modules/preprocessing.html\n",
      "  _check_optimize_result(\"lbfgs\", opt_res)\n",
      "C:\\Users\\cesar\\anaconda3\\envs\\discrete-diffusion\\lib\\site-packages\\sklearn\\gaussian_process\\_gpr.py:629: ConvergenceWarning: lbfgs failed to converge (status=2):\n",
      "ABNORMAL_TERMINATION_IN_LNSRCH.\n",
      "\n",
      "Increase the number of iterations (max_iter) or scale the data as shown in:\n",
      "    https://scikit-learn.org/stable/modules/preprocessing.html\n",
      "  _check_optimize_result(\"lbfgs\", opt_res)\n",
      "C:\\Users\\cesar\\anaconda3\\envs\\discrete-diffusion\\lib\\site-packages\\sklearn\\gaussian_process\\_gpr.py:629: ConvergenceWarning: lbfgs failed to converge (status=2):\n",
      "ABNORMAL_TERMINATION_IN_LNSRCH.\n",
      "\n",
      "Increase the number of iterations (max_iter) or scale the data as shown in:\n",
      "    https://scikit-learn.org/stable/modules/preprocessing.html\n",
      "  _check_optimize_result(\"lbfgs\", opt_res)\n",
      "C:\\Users\\cesar\\anaconda3\\envs\\discrete-diffusion\\lib\\site-packages\\sklearn\\gaussian_process\\_gpr.py:629: ConvergenceWarning: lbfgs failed to converge (status=2):\n",
      "ABNORMAL_TERMINATION_IN_LNSRCH.\n",
      "\n",
      "Increase the number of iterations (max_iter) or scale the data as shown in:\n",
      "    https://scikit-learn.org/stable/modules/preprocessing.html\n",
      "  _check_optimize_result(\"lbfgs\", opt_res)\n"
     ]
    },
    {
     "name": "stdout",
     "output_type": "stream",
     "text": [
      "{'kernel': Matern(length_scale=1, nu=1.5), 'svm': False, 'r2 mean': 0.8050050810422045, 'r2 std': 0.018936877877735913, 'target_name': 'PoDm_std'}\n",
      "Data PoDm_q90 Kernel rq\n",
      "(780, 100)\n",
      "Experiment 0\n",
      "Experiment 10\n",
      "{'kernel': RationalQuadratic(alpha=1.5, length_scale=1), 'svm': False, 'r2 mean': 0.8034978561854162, 'r2 std': 0.01402628914613605, 'target_name': 'PoDm_q90'}\n",
      "Data PoDm_q90 Kernel m\n",
      "(780, 100)\n",
      "Experiment 0\n"
     ]
    },
    {
     "name": "stderr",
     "output_type": "stream",
     "text": [
      "C:\\Users\\cesar\\anaconda3\\envs\\discrete-diffusion\\lib\\site-packages\\sklearn\\gaussian_process\\_gpr.py:629: ConvergenceWarning: lbfgs failed to converge (status=2):\n",
      "ABNORMAL_TERMINATION_IN_LNSRCH.\n",
      "\n",
      "Increase the number of iterations (max_iter) or scale the data as shown in:\n",
      "    https://scikit-learn.org/stable/modules/preprocessing.html\n",
      "  _check_optimize_result(\"lbfgs\", opt_res)\n",
      "C:\\Users\\cesar\\anaconda3\\envs\\discrete-diffusion\\lib\\site-packages\\sklearn\\gaussian_process\\_gpr.py:629: ConvergenceWarning: lbfgs failed to converge (status=2):\n",
      "ABNORMAL_TERMINATION_IN_LNSRCH.\n",
      "\n",
      "Increase the number of iterations (max_iter) or scale the data as shown in:\n",
      "    https://scikit-learn.org/stable/modules/preprocessing.html\n",
      "  _check_optimize_result(\"lbfgs\", opt_res)\n"
     ]
    },
    {
     "name": "stdout",
     "output_type": "stream",
     "text": [
      "Experiment 10\n"
     ]
    },
    {
     "name": "stderr",
     "output_type": "stream",
     "text": [
      "C:\\Users\\cesar\\anaconda3\\envs\\discrete-diffusion\\lib\\site-packages\\sklearn\\gaussian_process\\_gpr.py:629: ConvergenceWarning: lbfgs failed to converge (status=2):\n",
      "ABNORMAL_TERMINATION_IN_LNSRCH.\n",
      "\n",
      "Increase the number of iterations (max_iter) or scale the data as shown in:\n",
      "    https://scikit-learn.org/stable/modules/preprocessing.html\n",
      "  _check_optimize_result(\"lbfgs\", opt_res)\n",
      "C:\\Users\\cesar\\anaconda3\\envs\\discrete-diffusion\\lib\\site-packages\\sklearn\\gaussian_process\\_gpr.py:629: ConvergenceWarning: lbfgs failed to converge (status=2):\n",
      "ABNORMAL_TERMINATION_IN_LNSRCH.\n",
      "\n",
      "Increase the number of iterations (max_iter) or scale the data as shown in:\n",
      "    https://scikit-learn.org/stable/modules/preprocessing.html\n",
      "  _check_optimize_result(\"lbfgs\", opt_res)\n",
      "C:\\Users\\cesar\\anaconda3\\envs\\discrete-diffusion\\lib\\site-packages\\sklearn\\gaussian_process\\_gpr.py:629: ConvergenceWarning: lbfgs failed to converge (status=2):\n",
      "ABNORMAL_TERMINATION_IN_LNSRCH.\n",
      "\n",
      "Increase the number of iterations (max_iter) or scale the data as shown in:\n",
      "    https://scikit-learn.org/stable/modules/preprocessing.html\n",
      "  _check_optimize_result(\"lbfgs\", opt_res)\n",
      "C:\\Users\\cesar\\anaconda3\\envs\\discrete-diffusion\\lib\\site-packages\\sklearn\\gaussian_process\\_gpr.py:629: ConvergenceWarning: lbfgs failed to converge (status=2):\n",
      "ABNORMAL_TERMINATION_IN_LNSRCH.\n",
      "\n",
      "Increase the number of iterations (max_iter) or scale the data as shown in:\n",
      "    https://scikit-learn.org/stable/modules/preprocessing.html\n",
      "  _check_optimize_result(\"lbfgs\", opt_res)\n"
     ]
    },
    {
     "name": "stdout",
     "output_type": "stream",
     "text": [
      "{'kernel': Matern(length_scale=1, nu=1.5), 'svm': False, 'r2 mean': 0.8172704110600248, 'r2 std': 0.020109653488782714, 'target_name': 'PoDm_q90'}\n",
      "Data PoDm_q10 Kernel rq\n",
      "(780, 100)\n",
      "Experiment 0\n",
      "Experiment 10\n",
      "{'kernel': RationalQuadratic(alpha=1.5, length_scale=1), 'svm': False, 'r2 mean': 0.5278174478866321, 'r2 std': 0.04029376209980117, 'target_name': 'PoDm_q10'}\n",
      "Data PoDm_q10 Kernel m\n",
      "(780, 100)\n",
      "Experiment 0\n",
      "Experiment 10\n",
      "{'kernel': Matern(length_scale=1, nu=1.5), 'svm': False, 'r2 mean': 0.5470527562543828, 'r2 std': 0.03265536681031749, 'target_name': 'PoDm_q10'}\n",
      "Data absorption Kernel rq\n",
      "(780, 100)\n",
      "Experiment 0\n"
     ]
    },
    {
     "name": "stderr",
     "output_type": "stream",
     "text": [
      "C:\\Users\\cesar\\anaconda3\\envs\\discrete-diffusion\\lib\\site-packages\\sklearn\\gaussian_process\\_gpr.py:629: ConvergenceWarning: lbfgs failed to converge (status=2):\n",
      "ABNORMAL_TERMINATION_IN_LNSRCH.\n",
      "\n",
      "Increase the number of iterations (max_iter) or scale the data as shown in:\n",
      "    https://scikit-learn.org/stable/modules/preprocessing.html\n",
      "  _check_optimize_result(\"lbfgs\", opt_res)\n"
     ]
    },
    {
     "name": "stdout",
     "output_type": "stream",
     "text": [
      "Experiment 10\n",
      "{'kernel': RationalQuadratic(alpha=1.5, length_scale=1), 'svm': False, 'r2 mean': 0.9970506376005123, 'r2 std': 0.0005639386164434249, 'target_name': 'absorption'}\n",
      "Data absorption Kernel m\n",
      "(780, 100)\n"
     ]
    },
    {
     "name": "stderr",
     "output_type": "stream",
     "text": [
      "C:\\Users\\cesar\\anaconda3\\envs\\discrete-diffusion\\lib\\site-packages\\sklearn\\gaussian_process\\_gpr.py:629: ConvergenceWarning: lbfgs failed to converge (status=2):\n",
      "ABNORMAL_TERMINATION_IN_LNSRCH.\n",
      "\n",
      "Increase the number of iterations (max_iter) or scale the data as shown in:\n",
      "    https://scikit-learn.org/stable/modules/preprocessing.html\n",
      "  _check_optimize_result(\"lbfgs\", opt_res)\n"
     ]
    },
    {
     "name": "stdout",
     "output_type": "stream",
     "text": [
      "Experiment 0\n"
     ]
    },
    {
     "name": "stderr",
     "output_type": "stream",
     "text": [
      "C:\\Users\\cesar\\anaconda3\\envs\\discrete-diffusion\\lib\\site-packages\\sklearn\\gaussian_process\\_gpr.py:629: ConvergenceWarning: lbfgs failed to converge (status=2):\n",
      "ABNORMAL_TERMINATION_IN_LNSRCH.\n",
      "\n",
      "Increase the number of iterations (max_iter) or scale the data as shown in:\n",
      "    https://scikit-learn.org/stable/modules/preprocessing.html\n",
      "  _check_optimize_result(\"lbfgs\", opt_res)\n"
     ]
    },
    {
     "name": "stdout",
     "output_type": "stream",
     "text": [
      "Experiment 10\n"
     ]
    },
    {
     "name": "stderr",
     "output_type": "stream",
     "text": [
      "C:\\Users\\cesar\\anaconda3\\envs\\discrete-diffusion\\lib\\site-packages\\sklearn\\gaussian_process\\_gpr.py:629: ConvergenceWarning: lbfgs failed to converge (status=2):\n",
      "ABNORMAL_TERMINATION_IN_LNSRCH.\n",
      "\n",
      "Increase the number of iterations (max_iter) or scale the data as shown in:\n",
      "    https://scikit-learn.org/stable/modules/preprocessing.html\n",
      "  _check_optimize_result(\"lbfgs\", opt_res)\n",
      "C:\\Users\\cesar\\anaconda3\\envs\\discrete-diffusion\\lib\\site-packages\\sklearn\\gaussian_process\\_gpr.py:629: ConvergenceWarning: lbfgs failed to converge (status=2):\n",
      "ABNORMAL_TERMINATION_IN_LNSRCH.\n",
      "\n",
      "Increase the number of iterations (max_iter) or scale the data as shown in:\n",
      "    https://scikit-learn.org/stable/modules/preprocessing.html\n",
      "  _check_optimize_result(\"lbfgs\", opt_res)\n"
     ]
    },
    {
     "name": "stdout",
     "output_type": "stream",
     "text": [
      "{'kernel': Matern(length_scale=1, nu=1.5), 'svm': False, 'r2 mean': 0.9970168350375473, 'r2 std': 0.0005951149195120197, 'target_name': 'absorption'}\n"
     ]
    }
   ],
   "source": [
    "#target_name = \"PoDm_mean\"\n",
    "#target_name = \"PoDm_std\"\n",
    "#target_name = \"PoDm_q90\"\n",
    "#target_name = \"PoDm_q10\"\n",
    "#target_name = \"absorption\"\n",
    "#kernel_str = \"rq\"\n",
    "\n",
    "svm=False\n",
    "for target_name in [\"PoDm_mean\",\"PoDm_std\",\"PoDm_q90\",\"PoDm_q10\",\"absorption\"]:\n",
    "    for kernel_str in [\"rq\",\"m\"]:\n",
    "        #===========================\n",
    "        # SELECT KERNEL\n",
    "        #===========================\n",
    "        print(\"Data {0} Kernel {1}\".format(target_name,kernel_str))\n",
    "        if kernel_str == \"rq\":\n",
    "            kernel = RationalQuadratic(length_scale=1.0, \n",
    "                                       length_scale_bounds=(1e-9,1e9), \n",
    "                                       alpha=1.5, \n",
    "                                       alpha_bounds=(1e-6,1e2))\n",
    "        elif kernel_str == \"m\":\n",
    "            kernel = Matern(length_scale=1.0, \n",
    "                            length_scale_bounds=(1e-9,1e9))\n",
    "        elif kernel_str == \"rbf\":\n",
    "            kernel = RBF(length_scale=1.0, \n",
    "                         length_scale_bounds=(1e-9,1e9))\n",
    "        #==============================\n",
    "        # PICK DATA\n",
    "        #=============================\n",
    "        X_,Y = pick_data(mat,target_name=target_name)\n",
    "        if target_name == \"absortion\":\n",
    "            number_of_data_points = len(set(Y.squeeze()))\n",
    "            float_values_to_cat = dict(zip(set(Y.squeeze()),range(number_of_data_points)))\n",
    "            for i,v in enumerate(Y):\n",
    "                Y[i,0] = int(float_values_to_cat[Y[i,0]])\n",
    "\n",
    "        X_ = X_.transpose(2,0,1)\n",
    "        X_reduced = inpute_data_cut(X_,cut_size_x=5,cut_size_y = 5)\n",
    "        if target_name != \"absortion\":\n",
    "            X_reduced,Y = normalize(X_reduced,Y)\n",
    "        X_reduced = dimensionality_reduction(X_reduced,False)\n",
    "                       \n",
    "        print(X_reduced.shape)\n",
    "        #==============================\n",
    "        # EXPERIMENTS\n",
    "        #=============================\n",
    "        R2  = []\n",
    "        number_of_experiments = 20\n",
    "        for a in range(0,number_of_experiments):\n",
    "            r2 = one_experiment(X_reduced,Y,kernel,target_name,svm=svm)\n",
    "            R2.append(r2)\n",
    "            if a % 10 == 0:\n",
    "                print(\"Experiment {0}\".format(a))\n",
    "        R2 = np.asarray(R2)\n",
    "\n",
    "        experiment_results = {\"kernel\":kernel,\n",
    "                              \"svm\":svm,\n",
    "                              \"r2 mean\":R2.mean(),\n",
    "                              \"r2 std\":R2.std(),\n",
    "                              \"target_name\":target_name}\n",
    "        \n",
    "        RESULTS.append(experiment_results)\n",
    "        print(experiment_results)"
   ]
  },
  {
   "cell_type": "code",
   "execution_count": 85,
   "id": "5d6d6896",
   "metadata": {},
   "outputs": [],
   "source": []
  },
  {
   "cell_type": "code",
   "execution_count": 93,
   "id": "f3b2e2ef",
   "metadata": {},
   "outputs": [
    {
     "data": {
      "text/plain": [
       "[{'kernel': RationalQuadratic(alpha=1.5, length_scale=1),\n",
       "  'svm': False,\n",
       "  'r2 mean': 0.8219790381767333,\n",
       "  'r2 std': 0.017696652839870496,\n",
       "  'target_name': 'PoDm_mean'},\n",
       " {'kernel': RationalQuadratic(alpha=1.5, length_scale=1),\n",
       "  'svm': False,\n",
       "  'r2 mean': 0.7983270342306585,\n",
       "  'r2 std': 0.019626185698025978,\n",
       "  'target_name': 'PoDm_std'},\n",
       " {'kernel': Matern(length_scale=1, nu=1.5),\n",
       "  'svm': False,\n",
       "  'r2 mean': 0.8044986244044784,\n",
       "  'r2 std': 0.016324958963729264,\n",
       "  'target_name': 'PoDm_std'},\n",
       " {'kernel': RBF(length_scale=1),\n",
       "  'svm': False,\n",
       "  'r2 mean': -0.0043856328311607466,\n",
       "  'r2 std': 0.005534543531034067,\n",
       "  'target_name': 'PoDm_std'},\n",
       " {'kernel': RationalQuadratic(alpha=1.5, length_scale=1),\n",
       "  'svm': False,\n",
       "  'r2 mean': 0.8044557211009249,\n",
       "  'r2 std': 0.02846775654563559,\n",
       "  'target_name': 'PoDm_q90'},\n",
       " {'kernel': Matern(length_scale=1, nu=1.5),\n",
       "  'svm': False,\n",
       "  'r2 mean': 0.8017413938280376,\n",
       "  'r2 std': 0.020484743138997806,\n",
       "  'target_name': 'PoDm_q90'},\n",
       " {'kernel': RBF(length_scale=1),\n",
       "  'svm': False,\n",
       "  'r2 mean': -0.0034511044207365615,\n",
       "  'r2 std': 0.0034020155014595297,\n",
       "  'target_name': 'PoDm_q90'},\n",
       " {'kernel': RationalQuadratic(alpha=1.5, length_scale=1),\n",
       "  'svm': False,\n",
       "  'r2 mean': 0.5286836067764391,\n",
       "  'r2 std': 0.037356404099737325,\n",
       "  'target_name': 'PoDm_q10'},\n",
       " {'kernel': Matern(length_scale=1, nu=1.5),\n",
       "  'svm': False,\n",
       "  'r2 mean': 0.5338531881863193,\n",
       "  'r2 std': 0.032672213487330945,\n",
       "  'target_name': 'PoDm_q10'},\n",
       " {'kernel': RBF(length_scale=1),\n",
       "  'svm': False,\n",
       "  'r2 mean': -0.0046550320119457585,\n",
       "  'r2 std': 0.006087334973208484,\n",
       "  'target_name': 'PoDm_q10'},\n",
       " {'kernel': RationalQuadratic(alpha=1.5, length_scale=1),\n",
       "  'svm': False,\n",
       "  'r2 mean': 0.9966638553343683,\n",
       "  'r2 std': 0.0006801299528248586,\n",
       "  'target_name': 'absorption'},\n",
       " {'kernel': Matern(length_scale=1, nu=1.5),\n",
       "  'svm': False,\n",
       "  'r2 mean': 0.9968166005677717,\n",
       "  'r2 std': 0.0006442935465205324,\n",
       "  'target_name': 'absorption'},\n",
       " {'kernel': RBF(length_scale=1),\n",
       "  'svm': False,\n",
       "  'r2 mean': -0.0030767222115186455,\n",
       "  'r2 std': 0.005300300199846986,\n",
       "  'target_name': 'absorption'},\n",
       " {'kernel': RationalQuadratic(alpha=1.5, length_scale=1),\n",
       "  'svm': False,\n",
       "  'r2 mean': 0.8044160121009277,\n",
       "  'r2 std': 0.019779733401417084,\n",
       "  'target_name': 'PoDm_std'},\n",
       " {'kernel': RationalQuadratic(alpha=1.5, length_scale=1),\n",
       "  'svm': False,\n",
       "  'r2 mean': 0.8179355138771598,\n",
       "  'r2 std': 0.01640117262321306,\n",
       "  'target_name': 'PoDm_mean'},\n",
       " {'kernel': Matern(length_scale=1, nu=1.5),\n",
       "  'svm': False,\n",
       "  'r2 mean': 0.8207114299498327,\n",
       "  'r2 std': 0.020318888269418613,\n",
       "  'target_name': 'PoDm_mean'},\n",
       " {'kernel': RationalQuadratic(alpha=1.5, length_scale=1),\n",
       "  'svm': False,\n",
       "  'r2 mean': 0.8076966497652676,\n",
       "  'r2 std': 0.01733804646687628,\n",
       "  'target_name': 'PoDm_std'},\n",
       " {'kernel': Matern(length_scale=1, nu=1.5),\n",
       "  'svm': False,\n",
       "  'r2 mean': 0.8050050810422045,\n",
       "  'r2 std': 0.018936877877735913,\n",
       "  'target_name': 'PoDm_std'},\n",
       " {'kernel': RationalQuadratic(alpha=1.5, length_scale=1),\n",
       "  'svm': False,\n",
       "  'r2 mean': 0.8034978561854162,\n",
       "  'r2 std': 0.01402628914613605,\n",
       "  'target_name': 'PoDm_q90'},\n",
       " {'kernel': Matern(length_scale=1, nu=1.5),\n",
       "  'svm': False,\n",
       "  'r2 mean': 0.8172704110600248,\n",
       "  'r2 std': 0.020109653488782714,\n",
       "  'target_name': 'PoDm_q90'},\n",
       " {'kernel': RationalQuadratic(alpha=1.5, length_scale=1),\n",
       "  'svm': False,\n",
       "  'r2 mean': 0.5278174478866321,\n",
       "  'r2 std': 0.04029376209980117,\n",
       "  'target_name': 'PoDm_q10'},\n",
       " {'kernel': Matern(length_scale=1, nu=1.5),\n",
       "  'svm': False,\n",
       "  'r2 mean': 0.5470527562543828,\n",
       "  'r2 std': 0.03265536681031749,\n",
       "  'target_name': 'PoDm_q10'},\n",
       " {'kernel': RationalQuadratic(alpha=1.5, length_scale=1),\n",
       "  'svm': False,\n",
       "  'r2 mean': 0.9970506376005123,\n",
       "  'r2 std': 0.0005639386164434249,\n",
       "  'target_name': 'absorption'},\n",
       " {'kernel': Matern(length_scale=1, nu=1.5),\n",
       "  'svm': False,\n",
       "  'r2 mean': 0.9970168350375473,\n",
       "  'r2 std': 0.0005951149195120197,\n",
       "  'target_name': 'absorption'}]"
      ]
     },
     "execution_count": 93,
     "metadata": {},
     "output_type": "execute_result"
    }
   ],
   "source": [
    "RESULTS"
   ]
  },
  {
   "cell_type": "code",
   "execution_count": 80,
   "id": "09ad72a0",
   "metadata": {},
   "outputs": [
    {
     "data": {
      "text/plain": [
       "(114, 25, 770)"
      ]
     },
     "execution_count": 80,
     "metadata": {},
     "output_type": "execute_result"
    }
   ],
   "source": [
    "from sklearn.decomposition import PCA\n",
    "import matplotlib.pyplot as plt\n",
    "\n",
    "pca = PCA()\n",
    "X_1 = inpute_data_cut(X_,cut_size_x=5,cut_size_y = 5)\n",
    "X_1.reshape(114,-1)\n",
    "\n",
    "#pca.fit(X_1)\n",
    "\n",
    "#plt.plot(np.cumsum(pca.explained_variance_ratio_))\n",
    "#plt.xlabel('Number of components')\n",
    "#plt.ylabel('Cumulative explained variance')\n",
    "#plt.show()"
   ]
  },
  {
   "cell_type": "code",
   "execution_count": 77,
   "id": "933ea20d",
   "metadata": {},
   "outputs": [],
   "source": [
    "#RESULTS.append(experiment_results)"
   ]
  },
  {
   "cell_type": "code",
   "execution_count": 87,
   "id": "ff4ec6f9",
   "metadata": {},
   "outputs": [
    {
     "data": {
      "text/plain": [
       "(780, 1)"
      ]
     },
     "execution_count": 87,
     "metadata": {},
     "output_type": "execute_result"
    }
   ],
   "source": [
    "Y.shape"
   ]
  },
  {
   "cell_type": "code",
   "execution_count": 262,
   "id": "a1188fe7",
   "metadata": {},
   "outputs": [],
   "source": []
  }
 ],
 "metadata": {
  "kernelspec": {
   "display_name": "Python 3 (ipykernel)",
   "language": "python",
   "name": "python3"
  },
  "language_info": {
   "codemirror_mode": {
    "name": "ipython",
    "version": 3
   },
   "file_extension": ".py",
   "mimetype": "text/x-python",
   "name": "python",
   "nbconvert_exporter": "python",
   "pygments_lexer": "ipython3",
   "version": "3.10.9"
  }
 },
 "nbformat": 4,
 "nbformat_minor": 5
}
